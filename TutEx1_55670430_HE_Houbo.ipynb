{
 "cells": [
  {
   "cell_type": "code",
   "execution_count": 7,
   "metadata": {},
   "outputs": [
    {
     "name": "stdout",
     "output_type": "stream",
     "text": [
      "Element at even-index position from listOne\n",
      "[1, 3, 5, 7]\n",
      "Element at odd-index position from listTwo\n",
      "[4, 8, 12, 16]\n",
      "Printing final third list\n",
      "[1, 3, 5, 7, 4, 8, 12, 16]\n"
     ]
    }
   ],
   "source": [
    "listOne = [1,2,3,4,5,6,7,8]\n",
    "listTwo = [2,4,6,8,10,12,14,16]\n",
    "a = []\n",
    "b = []\n",
    "print('Element at even-index position from listOne')\n",
    "for i in range (0,len(listOne)):\n",
    "    if i%2==0:\n",
    "        a.append(listOne[i])\n",
    "for i in range (0,len(listTwo)):\n",
    "    if i%2==1:\n",
    "        b.append(listTwo[i])\n",
    "print(a)\n",
    "print('Element at odd-index position from listTwo')\n",
    "print(b)\n",
    "print('Printing final third list')\n",
    "a.extend(b)\n",
    "print(a)"
   ]
  },
  {
   "cell_type": "code",
   "execution_count": 37,
   "metadata": {},
   "outputs": [
    {
     "name": "stdout",
     "output_type": "stream",
     "text": [
      "[[3 3 1]\n",
      " [3 9 6]]= arrayOne\n",
      "[[ 9  1  9]\n",
      " [ 5  2 10]]= arrayTwo\n"
     ]
    }
   ],
   "source": [
    "import numpy as np\n",
    "randnums1 = np.random.randint(1,11,3)\n",
    "randnums2 = np.random.randint(1,11,3)\n",
    "randnums3 = np.random.randint(1,11,3)\n",
    "randnums4 = np.random.randint(1,11,3)\n",
    "randnums5 = randnums1 + randnums3\n",
    "randnums6 = randnums2 + randnums4 \n",
    "arrayOne = np.array([randnums1,randnums2],int)\n",
    "print(format(arrayOne) + \"= arrayOne\")\n",
    "arrayTwo = np.array([randnums3,randnums4],int)\n",
    "print(format(arrayTwo) + \"= arrayTwo\")\n",
    "arraySum = np.array([randnums5,randnums6],int)\n",
    "arraySu\\"
   ]
  },
  {
   "cell_type": "code",
   "execution_count": 34,
   "metadata": {},
   "outputs": [
    {
     "name": "stdout",
     "output_type": "stream",
     "text": [
      "I like 111\n",
      "I don't like 222\n",
      "I like 333\n",
      "I don't like 444\n",
      "I like 555\n",
      "I don't like 666\n"
     ]
    }
   ],
   "source": [
    "genre = ['111','222','333','444','555','666']\n",
    "for i in range(0,len(genre)):\n",
    "    if i%2 == 0:\n",
    "        print('I like ' + genre[i])\n",
    "    else:\n",
    "        print('I don\\'t like ' + genre[i])"
   ]
  },
  {
   "cell_type": "code",
   "execution_count": null,
   "metadata": {},
   "outputs": [],
   "source": []
  }
 ],
 "metadata": {
  "kernelspec": {
   "display_name": "Python 3",
   "language": "python",
   "name": "python3"
  },
  "language_info": {
   "codemirror_mode": {
    "name": "ipython",
    "version": 3
   },
   "file_extension": ".py",
   "mimetype": "text/x-python",
   "name": "python",
   "nbconvert_exporter": "python",
   "pygments_lexer": "ipython3",
   "version": "3.7.1"
  }
 },
 "nbformat": 4,
 "nbformat_minor": 2
}
